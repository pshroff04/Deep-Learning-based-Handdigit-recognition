{
 "cells": [
  {
   "cell_type": "code",
   "execution_count": 1,
   "metadata": {},
   "outputs": [
    {
     "name": "stderr",
     "output_type": "stream",
     "text": [
      "C:\\Users\\prate\\AppData\\Local\\conda\\conda\\envs\\mlenv\\lib\\site-packages\\ipykernel_launcher.py:66: UserWarning: invalid index of a 0-dim tensor. This will be an error in PyTorch 0.5. Use tensor.item() to convert a 0-dim tensor to a Python number\n"
     ]
    },
    {
     "name": "stdout",
     "output_type": "stream",
     "text": [
      "epoch: 0, batch index: 100, train loss: 0.393112\n",
      "epoch: 0, batch index: 200, train loss: 0.198331\n",
      "epoch: 0, batch index: 300, train loss: 0.135051\n",
      "epoch: 0, batch index: 400, train loss: 0.106385\n",
      "epoch: 0, batch index: 500, train loss: 0.089359\n",
      "epoch: 0, batch index: 600, train loss: 0.095170\n",
      "epoch: 1, batch index: 100, train loss: 0.047330\n",
      "epoch: 1, batch index: 200, train loss: 0.052546\n",
      "epoch: 1, batch index: 300, train loss: 0.066688\n",
      "epoch: 1, batch index: 400, train loss: 0.061474\n",
      "epoch: 1, batch index: 500, train loss: 0.057885\n",
      "epoch: 1, batch index: 600, train loss: 0.070998\n",
      "epoch: 2, batch index: 100, train loss: 0.050479\n",
      "epoch: 2, batch index: 200, train loss: 0.043603\n",
      "epoch: 2, batch index: 300, train loss: 0.034888\n",
      "epoch: 2, batch index: 400, train loss: 0.043101\n",
      "epoch: 2, batch index: 500, train loss: 0.037882\n",
      "epoch: 2, batch index: 600, train loss: 0.033454\n",
      "epoch: 3, batch index: 100, train loss: 0.026912\n",
      "epoch: 3, batch index: 200, train loss: 0.033419\n",
      "epoch: 3, batch index: 300, train loss: 0.035219\n",
      "epoch: 3, batch index: 400, train loss: 0.018869\n",
      "epoch: 3, batch index: 500, train loss: 0.024852\n",
      "epoch: 3, batch index: 600, train loss: 0.032570\n",
      "epoch: 4, batch index: 100, train loss: 0.026420\n",
      "epoch: 4, batch index: 200, train loss: 0.021631\n",
      "epoch: 4, batch index: 300, train loss: 0.027346\n",
      "epoch: 4, batch index: 400, train loss: 0.028449\n",
      "epoch: 4, batch index: 500, train loss: 0.022002\n",
      "epoch: 4, batch index: 600, train loss: 0.043895\n",
      "epoch: 5, batch index: 100, train loss: 0.023965\n",
      "epoch: 5, batch index: 200, train loss: 0.009569\n",
      "epoch: 5, batch index: 300, train loss: 0.013582\n",
      "epoch: 5, batch index: 400, train loss: 0.020409\n",
      "epoch: 5, batch index: 500, train loss: 0.022152\n",
      "epoch: 5, batch index: 600, train loss: 0.024403\n",
      "epoch: 6, batch index: 100, train loss: 0.016185\n",
      "epoch: 6, batch index: 200, train loss: 0.013497\n",
      "epoch: 6, batch index: 300, train loss: 0.020489\n",
      "epoch: 6, batch index: 400, train loss: 0.019745\n",
      "epoch: 6, batch index: 500, train loss: 0.028093\n",
      "epoch: 6, batch index: 600, train loss: 0.008983\n",
      "epoch: 7, batch index: 100, train loss: 0.016219\n",
      "epoch: 7, batch index: 200, train loss: 0.010861\n",
      "epoch: 7, batch index: 300, train loss: 0.008745\n",
      "epoch: 7, batch index: 400, train loss: 0.014330\n",
      "epoch: 7, batch index: 500, train loss: 0.012550\n",
      "epoch: 7, batch index: 600, train loss: 0.022787\n",
      "epoch: 8, batch index: 100, train loss: 0.009681\n",
      "epoch: 8, batch index: 200, train loss: 0.009540\n",
      "epoch: 8, batch index: 300, train loss: 0.015310\n",
      "epoch: 8, batch index: 400, train loss: 0.010819\n",
      "epoch: 8, batch index: 500, train loss: 0.009096\n",
      "epoch: 8, batch index: 600, train loss: 0.009679\n",
      "epoch: 9, batch index: 100, train loss: 0.005033\n",
      "epoch: 9, batch index: 200, train loss: 0.007481\n",
      "epoch: 9, batch index: 300, train loss: 0.008990\n",
      "epoch: 9, batch index: 400, train loss: 0.005588\n",
      "epoch: 9, batch index: 500, train loss: 0.007918\n",
      "epoch: 9, batch index: 600, train loss: 0.007184\n"
     ]
    }
   ],
   "source": [
    "import torch\n",
    "import torch.nn as nn\n",
    "from torch.autograd import Variable\n",
    "import torchvision.datasets as dset\n",
    "import torchvision.transforms as transforms\n",
    "import torch.nn.functional as F\n",
    "import torch.optim as optim\n",
    "import torch\n",
    "\n",
    "import numpy as np\n",
    "import matplotlib.pyplot as plt\n",
    "\n",
    "root = './data'\n",
    "    \n",
    "trans = transforms.Compose([transforms.ToTensor(), \n",
    "transforms.Normalize((0.5, 0.5, 0.5), (0.5, 0.5, 0.5))])\n",
    "\n",
    "train_set = dset.MNIST(root=root, train=True, transform=trans, download=True)\n",
    "test_set = dset.MNIST(root=root, train=False, transform=trans, download=True)\n",
    "\n",
    "batch_size = 100\n",
    "\n",
    "train_loader = torch.utils.data.DataLoader(\n",
    "                 dataset=train_set,\n",
    "                 batch_size=batch_size,\n",
    "                 shuffle=True)\n",
    "\n",
    "test_loader = torch.utils.data.DataLoader(\n",
    "                dataset=test_set,\n",
    "                batch_size=batch_size,\n",
    "                shuffle=False)\n",
    "\n",
    "\n",
    "class Net(nn.Module):\n",
    "    def __init__(self):\n",
    "        super(Net, self).__init__()\n",
    "        self.conv1 = nn.Conv2d(1, 20, 5, 1)\n",
    "        self.conv2 = nn.Conv2d(20, 50, 5, 1)\n",
    "        self.fc1 = nn.Linear(4*4*50, 500)\n",
    "        self.fc2 = nn.Linear(500, 10)\n",
    "\n",
    "    def forward(self, x):\n",
    "        x = F.relu(self.conv1(x))\n",
    "        x = F.max_pool2d(x, 2, 2)\n",
    "        x = F.relu(self.conv2(x))\n",
    "        x = F.max_pool2d(x, 2, 2)\n",
    "        x = x.view(-1, 4*4*50)\n",
    "        x = F.relu(self.fc1(x))\n",
    "        x = self.fc2(x)\n",
    "        return x\n",
    "    \n",
    "    def name(self):\n",
    "        return \"Net\"\n",
    "\n",
    "\n",
    "model = Net()\n",
    "\n",
    "optimizer = optim.SGD(model.parameters(), lr=0.01, momentum=0.9)\n",
    "criterion = nn.CrossEntropyLoss()\n",
    "\n",
    "## training\n",
    "for epoch in range(10):\n",
    "    ave_loss = 0\n",
    "    for batch_id, data in enumerate(train_loader):\n",
    "        optimizer.zero_grad()\n",
    "        x = Variable(data[0])\n",
    "        target = Variable(data[1])\n",
    "        out = model(x)\n",
    "        loss = criterion(out, target)\n",
    "        ave_loss = ave_loss * 0.9 + loss.item() * 0.1\n",
    "        loss.backward()\n",
    "        optimizer.step()\n",
    "        if (batch_id+1) % 100 == 0:\n",
    "            print ('epoch: {}, batch index: {}, train loss: {:.6f}'.format(\n",
    "                epoch, batch_id+1, ave_loss))"
   ]
  },
  {
   "cell_type": "code",
   "execution_count": 5,
   "metadata": {},
   "outputs": [
    {
     "name": "stdout",
     "output_type": "stream",
     "text": [
      "test loss: 0.018569103963311913, acc: 99.15\n"
     ]
    }
   ],
   "source": [
    "## testing\n",
    "correct_cnt, ave_loss = 0, 0\n",
    "total_cnt = 0\n",
    "with torch.no_grad():\n",
    "    for batch_id, data in enumerate(test_loader):\n",
    "        x, target = Variable(data[0]), Variable(data[1])\n",
    "        out = model(x)\n",
    "        loss = criterion(out, target)\n",
    "        _, pred_label = torch.max(out.data, 1)\n",
    "        total_cnt += x.data.size()[0]\n",
    "        correct_cnt += (pred_label.data == target.data).sum().item()\n",
    "        ave_loss = ave_loss * 0.9 + loss.item() * 0.1\n",
    "\n",
    "print ('test loss: {}, acc: {}'.format(ave_loss, correct_cnt * 100 / total_cnt))"
   ]
  },
  {
   "cell_type": "code",
   "execution_count": 14,
   "metadata": {},
   "outputs": [
    {
     "name": "stdout",
     "output_type": "stream",
     "text": [
      "[7 2 1 0 4] prediction number\n",
      "[7 2 1 0 4] real number\n"
     ]
    },
    {
     "data": {
      "image/png": "[encoded data removed]",
      "text/plain": [
       "<Figure size 432x288 with 1 Axes>"
      ]
     },
     "metadata": {
      "needs_background": "light"
     },
     "output_type": "display_data"
    }
   ],
   "source": [
    "def imshow(img):\n",
    "    img = img/2 +0.5\n",
    "    npimg = img.numpy()\n",
    "    plt.imshow(np.transpose(npimg,(1,2,0)))\n",
    "\n",
    "##Visualize\n",
    "testiter = iter(test_loader)\n",
    "images, labels = testiter.next()\n",
    "imshow(torchvision.utils.make_grid(images[:5]))\n",
    "out = model(images[:5])\n",
    "predicted = torch.max(out, 1)[1].data.numpy().squeeze()\n",
    "print(predicted, 'prediction number')\n",
    "print(labels[:5].numpy(), 'real number')"
   ]
  },
  {
   "cell_type": "code",
   "execution_count": null,
   "metadata": {},
   "outputs": [],
   "source": []
  }
 ],
 "metadata": {
  "kernelspec": {
   "display_name": "Python 3",
   "language": "python",
   "name": "python3"
  },
  "language_info": {
   "codemirror_mode": {
    "name": "ipython",
    "version": 3
   },
   "file_extension": ".py",
   "mimetype": "text/x-python",
   "name": "python",
   "nbconvert_exporter": "python",
   "pygments_lexer": "ipython3",
   "version": "3.5.6"
  },
  "widgets": {
   "application/vnd.jupyter.widget-state+json": {
    "state": {},
    "version_major": 2,
    "version_minor": 0
   }
  }
 },
 "nbformat": 4,
 "nbformat_minor": 2
}
